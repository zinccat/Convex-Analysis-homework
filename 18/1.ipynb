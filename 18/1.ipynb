{
 "cells": [
  {
   "cell_type": "markdown",
   "metadata": {},
   "source": [
    "# Penalty Function\n",
    "By ZincCat\n",
    "\n",
    "$\\min _{\\mathbf{x}} \\frac{1}{2}\\|\\mathbf{x}\\|_{2}$\n",
    "\n",
    "s.t. $\\mathbf{A x}=\\mathbf{b}$"
   ]
  },
  {
   "cell_type": "code",
   "execution_count": null,
   "metadata": {},
   "outputs": [],
   "source": [
    "import numpy as np\n",
    "from matplotlib import pyplot as plt"
   ]
  },
  {
   "cell_type": "code",
   "execution_count": null,
   "metadata": {},
   "outputs": [],
   "source": [
    "p = 200\n",
    "n = 300"
   ]
  },
  {
   "cell_type": "code",
   "execution_count": null,
   "metadata": {},
   "outputs": [],
   "source": [
    "np.random.seed(19890817)\n",
    "A = np.random.normal(10, 5, (p, n))\n",
    "b = np.random.normal(10, 5, p)\n",
    "\n",
    "def linesearch_Armijo(f, x, g, d, alpha=0.4, beta=0.8):\n",
    "    # backtrack linesearch using Armijo rules\n",
    "    t = 1.0\n",
    "    value = f(x)\n",
    "    while f(x + t*d) > value + alpha*t*np.dot(g, d):\n",
    "        t *= beta\n",
    "    return t"
   ]
  },
  {
   "cell_type": "code",
   "execution_count": null,
   "metadata": {},
   "outputs": [],
   "source": [
    "def f(x):\n",
    "    return np.linalg.norm(x, 2)/2\n",
    "def f_ab(gamma):\n",
    "    return lambda x: np.linalg.norm(x, 2)**2/2 + gamma * np.linalg.norm(A@x-b)**2\n",
    "def g_ab(gamma):\n",
    "    return lambda x: x + 2 * gamma * A.T@(A@x-b)\n",
    "def f_bc(gamma):\n",
    "    return lambda x: np.linalg.norm(x, 2)**2/2 + gamma * np.sum((A@x-b)**4)\n",
    "def g_bc(gamma):\n",
    "    return lambda x: x + 4 * gamma * A.T@((A@x-b)**3)\n",
    "def f_ab2(gamma):\n",
    "    return lambda x: np.linalg.norm(x, 2)**2/2 + gamma * np.linalg.norm(A@x-b, 1)\n",
    "def g_ab2(gamma):\n",
    "    return lambda x: x + gamma * A.T@np.sign(A@x-b)\n",
    "cons = ({'type': 'eq', 'fun': lambda x: A.dot(x)-b})"
   ]
  },
  {
   "cell_type": "code",
   "execution_count": null,
   "metadata": {},
   "outputs": [],
   "source": [
    "x0 = np.random.rand(n)"
   ]
  },
  {
   "cell_type": "code",
   "execution_count": null,
   "metadata": {},
   "outputs": [],
   "source": [
    "minValue = f(A.T@np.linalg.inv(A@A.T)@b)\n",
    "print(minValue)"
   ]
  },
  {
   "cell_type": "markdown",
   "metadata": {},
   "source": [
    "Direct projected gradient, with inexact line search."
   ]
  },
  {
   "cell_type": "code",
   "execution_count": null,
   "metadata": {},
   "outputs": [],
   "source": [
    "def descent(f, x, grad):\n",
    "    # 梯度下降函数\n",
    "    # 输入函数f, 目前x取值, 梯度函数\n",
    "    # 输出下降后x取值, 步长t\n",
    "    xn = x.copy()\n",
    "    g = grad(xn)\n",
    "    grad_norm = np.linalg.norm(g, 2)\n",
    "    d = -g/grad_norm\n",
    "    t = linesearch_Armijo(f, xn, g, d)\n",
    "    xn += t*d\n",
    "    return xn, t"
   ]
  },
  {
   "cell_type": "markdown",
   "metadata": {},
   "source": [
    "absolute value penalty function"
   ]
  },
  {
   "cell_type": "code",
   "execution_count": null,
   "metadata": {
    "tags": [
     "outputPrepend"
    ]
   },
   "outputs": [],
   "source": [
    "# 绘图\n",
    "time1 = []  # 记录时间步, 用于绘图\n",
    "values1 = []  # 记录某一时间步下函数值, 用于绘图\n",
    "pvalues1 = [] #  记录某一时间步下含惩罚函数值, 用于绘图\n",
    "Plot = True  # 是否绘图, 请保证此时alpha, beta均为单一取值\n",
    "timestep = 0\n",
    "\n",
    "x = x0.copy() #满足约束的初值\n",
    "gamma = 0\n",
    "\n",
    "# 用于判定终止\n",
    "count = 0 \n",
    "eps = 1e-10\n",
    "oldvalue = f(x)\n",
    "maxIter = 20000  # 最大迭代次数\n",
    "\n",
    "while True:\n",
    "    value = f(x)\n",
    "    print(\"Iteration:\", timestep, \"Value\", value)\n",
    "    # 用函数值改变量作为终止条件\n",
    "    if abs(value - oldvalue) < eps:\n",
    "        count += 1\n",
    "    else:\n",
    "        count = 0\n",
    "    oldvalue = value\n",
    "    if timestep > maxIter or count >= 5:\n",
    "        break\n",
    "    for i in range(20):\n",
    "        x, t = descent(f_ab(gamma), x, g_ab(gamma))  # 此时使用无穷范数\n",
    "    print(f_ab(gamma)(x))\n",
    "    if Plot:\n",
    "        time1.append(timestep)\n",
    "        values1.append(value)\n",
    "        pvalues1.append(f_ab(gamma)(x))\n",
    "    gamma += 100\n",
    "    timestep += 1"
   ]
  },
  {
   "cell_type": "markdown",
   "metadata": {},
   "source": [
    "Courant-Beltrami penalty function"
   ]
  },
  {
   "cell_type": "code",
   "execution_count": null,
   "metadata": {
    "tags": [
     "outputPrepend"
    ]
   },
   "outputs": [],
   "source": [
    "# 绘图\n",
    "time2 = []  # 记录时间步, 用于绘图\n",
    "values2 = []  # 记录某一时间步下函数值, 用于绘图\n",
    "pvalues2 = [] #  记录某一时间步下含惩罚函数值, 用于绘图\n",
    "Plot = True  # 是否绘图, 请保证此时alpha, beta均为单一取值\n",
    "timestep = 0\n",
    "\n",
    "x = x0.copy() #满足约束的初值\n",
    "gamma = 0\n",
    "\n",
    "# 用于判定终止\n",
    "count = 0 \n",
    "eps = 1e-10\n",
    "oldvalue = f(x)\n",
    "maxIter = 20000  # 最大迭代次数\n",
    "\n",
    "while True:\n",
    "    value = f(x)\n",
    "    print(\"Iteration:\", timestep, \"Value\", value)\n",
    "    # 用函数值改变量作为终止条件\n",
    "    if abs(value - oldvalue) < eps:\n",
    "        count += 1\n",
    "    else:\n",
    "        count = 0\n",
    "    oldvalue = value\n",
    "    if timestep > maxIter or count >= 5:\n",
    "        break\n",
    "    for i in range(10):\n",
    "        x, t = descent(f_bc(gamma), x, g_bc(gamma))  # 此时使用无穷范数\n",
    "    \n",
    "    if Plot:\n",
    "        time2.append(timestep)\n",
    "        values2.append(value)\n",
    "        pvalues2.append(f_bc(gamma)(x))\n",
    "    gamma += 100\n",
    "    timestep += 1"
   ]
  },
  {
   "cell_type": "code",
   "execution_count": null,
   "metadata": {},
   "outputs": [],
   "source": [
    "plt.plot(time1, np.log(values1)-minValue)\n",
    "plt.plot(time2, np.log(values2)-minValue)\n",
    "plt.legend(['Absolute', 'Courant-Beltrami'])\n",
    "plt.xlabel(\"Iteration number $(k/100)$\")\n",
    "plt.ylabel(\"$\\log (f(\\mathbf{x}_{k})-f^{*})$\")\n",
    "plt.savefig('result1gamma100.png', dpi=200)\n",
    "plt.show()"
   ]
  },
  {
   "cell_type": "markdown",
   "metadata": {},
   "source": [
    "并不exact的一点佐证"
   ]
  },
  {
   "cell_type": "code",
   "execution_count": null,
   "metadata": {
    "tags": [
     "outputPrepend"
    ]
   },
   "outputs": [],
   "source": [
    "# 绘图\n",
    "time3 = []  # 记录时间步, 用于绘图\n",
    "values3 = []  # 记录某一时间步下函数值, 用于绘图\n",
    "Plot = True  # 是否绘图, 请保证此时alpha, beta均为单一取值\n",
    "timestep = 0\n",
    "\n",
    "x = x0.copy() #满足约束的初值\n",
    "gamma = 30000000\n",
    "\n",
    "# 用于判定终止\n",
    "count = 0 \n",
    "eps = 1e-13\n",
    "oldvalue = f(x)\n",
    "maxIter = 20000  # 最大迭代次数\n",
    "\n",
    "while True:\n",
    "    value = f(x)\n",
    "    print(\"Iteration:\", timestep, \"Value\", value)\n",
    "    # 用函数值改变量作为终止条件\n",
    "    if abs(value - oldvalue) < eps:\n",
    "        count += 1\n",
    "    else:\n",
    "        count = 0\n",
    "    oldvalue = value\n",
    "    if Plot:\n",
    "        time3.append(timestep)\n",
    "        values3.append(value)\n",
    "    if timestep > maxIter or count >= 5:\n",
    "        break\n",
    "    for i in range(10):\n",
    "        x, t = descent(f_ab(gamma), x, g_ab(gamma))  # 此时使用无穷范数\n",
    "    print(f_ab(gamma)(x))\n",
    "    # gamma += 1\n",
    "    timestep += 1"
   ]
  }
 ],
 "metadata": {
  "interpreter": {
   "hash": "dc8f3ea9badafe9fc0f1b4faa22fba7f18b6863e43b73e6df2a27536033ffddf"
  },
  "kernelspec": {
   "display_name": "Python 3.7.10 64-bit ('ml': conda)",
   "name": "python3"
  },
  "language_info": {
   "name": "python",
   "version": ""
  },
  "orig_nbformat": 2
 },
 "nbformat": 4,
 "nbformat_minor": 2
}