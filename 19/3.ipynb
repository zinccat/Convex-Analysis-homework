{
 "cells": [
  {
   "cell_type": "markdown",
   "metadata": {},
   "source": [
    "# LADMPSAP\n",
    "\n",
    "### By ZincCat\n",
    "\n",
    "$$\\min _{\\mathbf{Z}, \\mathbf{E}}\\|\\mathbf{Z}\\|_{*}+\\lambda\\|\\mathbf{E}\\|_{2,1}$$\n",
    "\n",
    "$$\\text{s.t. }\\mathbf{D}=\\mathbf{D Z}+\\mathbf{E}, \\mathbf{Z}^{T} \\mathbf{1}=\\mathbf{1}, \\mathbf{Z}\\geqslant \\mathbf{0} $$"
   ]
  },
  {
   "cell_type": "code",
   "execution_count": 176,
   "metadata": {},
   "outputs": [],
   "source": [
    "import numpy as np\n",
    "from matplotlib import pyplot as plt\n",
    "from time import time\n",
    "from sklearn.decomposition import TruncatedSVD\n",
    "from sklearn.utils.extmath import randomized_svd\n",
    "%matplotlib inline"
   ]
  },
  {
   "cell_type": "code",
   "execution_count": 177,
   "metadata": {},
   "outputs": [],
   "source": [
    "p = 200\n",
    "n = 300\n",
    "np.random.seed(19890817)\n",
    "D = np.random.normal(0, 1, (p, n))"
   ]
  },
  {
   "cell_type": "code",
   "execution_count": 178,
   "metadata": {},
   "outputs": [],
   "source": [
    "def norm21(X):\n",
    "    return np.linalg.norm(np.linalg.norm(X, 2, axis=0), 1)\n",
    "\n",
    "def f(Z, E, lam):\n",
    "    return np.linalg.norm(Z, 'nuc') + lam * norm21(E)\n",
    "\n",
    "# l2,1-norm shrinkage operator\n",
    "def H(M, eps):\n",
    "    norm = np.linalg.norm(M, 2, axis=0)\n",
    "    M[:, norm>eps] *= (norm[norm>eps] - eps)/norm[norm>eps]\n",
    "    M[:, norm<=eps] = 0\n",
    "    return M\n",
    "\n",
    "\n",
    "# soft shrinkage operator\n",
    "def S(x, eps):\n",
    "    x[np.abs(x) < eps] = 0\n",
    "    x[x >= eps] -= eps\n",
    "    x[x <= -eps] += eps\n",
    "    return x"
   ]
  },
  {
   "cell_type": "code",
   "execution_count": 179,
   "metadata": {},
   "outputs": [],
   "source": [
    "def update_E(Z, L, lam, beta):\n",
    "    M = D - D@Z + L/beta\n",
    "    # M = M[0:-1]\n",
    "    Enew = H(M, lam/beta)\n",
    "    # Enew = np.vstack((Enew, np.zeros(n)))\n",
    "    return Enew\n",
    "\n",
    "def update_Z(Z, E, L, Y, M, l, beta, etaZ, r, n):\n",
    "    N = D + L/beta - E\n",
    "    W = Z - (D.T@(D@Z-N) + np.sum(l)/beta + np.sum(Z, axis=0)/beta-np.ones((1, n)))/etaZ + Y/etaZ - M/beta/etaZ\n",
    "    U, sigma, V = np.linalg.svd(W)\n",
    "    # U, sigma, V = randomized_svd(W, n_components=r)\n",
    "    sigma = S(sigma, 1/beta/etaZ)\n",
    "    # if count < r:\n",
    "    #     r = min(n, count+1)\n",
    "    # else:\n",
    "    #     r = min(n, r + int(0.05*n))\n",
    "    Znew = U@np.diag(sigma)@V\n",
    "    return Znew\n",
    "\n",
    "def update_beta(beta, maxBeta, rho0, eta, eps2, dE, dZ, dY, normD):\n",
    "    satisfied = False\n",
    "    if beta*np.max((np.sqrt(3.1)*dE, np.sqrt(eta)*dZ, np.sqrt(3.1)*dY))/normD < eps2:\n",
    "        rho = rho0\n",
    "        satisfied = True\n",
    "    else:\n",
    "        rho = 1\n",
    "    return min(beta*rho, maxBeta), satisfied"
   ]
  },
  {
   "cell_type": "code",
   "execution_count": 193,
   "metadata": {},
   "outputs": [],
   "source": [
    "beta = 1e-4\n",
    "maxBeta = 1e4\n",
    "maxIter = 100000\n",
    "eps1 = 1e-2\n",
    "eps2 = 1e-2\n",
    "rho0 = 1.9\n",
    "lam = 0.01"
   ]
  },
  {
   "cell_type": "code",
   "execution_count": 194,
   "metadata": {},
   "outputs": [],
   "source": [
    "def LADMPSAP(f, Din, lam, beta, maxBeta, maxIter, rho0, eps1, eps2, r, log, logbeta):\n",
    "    step = 0\n",
    "    D = Din.copy()\n",
    "    p, n= D.shape\n",
    "    E = np.zeros((p, n))\n",
    "    Z = np.zeros((n, n))\n",
    "    L = np.zeros((p, n))\n",
    "    Y = np.zeros((n, n))\n",
    "    M = np.zeros((n, n))\n",
    "    l = np.zeros(n)\n",
    "    dL = D - D@Z - E\n",
    "    dLnorm = np.linalg.norm(dL)\n",
    "    normD = np.linalg.norm(D)\n",
    "    dM = Z - Y\n",
    "    dMnorm = np.linalg.norm(dM)\n",
    "    etaZ = normD**2*3.1\n",
    "    crit1 = False\n",
    "    crit2 = False\n",
    "    while step < maxIter:\n",
    "        if step % 1 == 0:\n",
    "            value = f(Z, E, lam)\n",
    "            print(step, value, 'gap', dLnorm, dMnorm, beta, crit1, crit2)\n",
    "            log.append(value)\n",
    "        logbeta.append(beta)\n",
    "        Enew = update_E(Z, L, lam, beta)\n",
    "        Znew = update_Z(Z, E, L, Y, M, l, beta, etaZ, r, n)\n",
    "        Ynew = np.maximum(Z, 0)\n",
    "        dE = np.linalg.norm(Enew-E)\n",
    "        dZ = np.linalg.norm(Znew-Z)\n",
    "        dY = np.linalg.norm(Ynew-Y)\n",
    "        E = Enew\n",
    "        Z = Znew\n",
    "        Y = Ynew\n",
    "        dl = np.sum(Z, axis=0) - np.ones((1, n))\n",
    "        dL = -D@Z - E + D\n",
    "        dLnorm = np.linalg.norm(dL)\n",
    "        dM = Z - Y\n",
    "        dMnorm = np.linalg.norm(dM)\n",
    "        L = L + beta * dL\n",
    "        l = l + beta * dl\n",
    "        M = M + beta * dM\n",
    "        crit1 = dLnorm/normD < eps1\n",
    "        beta, crit2 = update_beta(\n",
    "            beta, maxBeta, rho0, etaZ, eps2, dE, dZ, dY, normD)\n",
    "        if crit1 and crit2:\n",
    "            print(\"Converged at step\", step)\n",
    "            value = f(Z, E, lam)\n",
    "            print(step, value, 'gap', dLnorm, dMnorm)\n",
    "            break\n",
    "        step += 1\n",
    "    return Z, E, L"
   ]
  },
  {
   "cell_type": "code",
   "execution_count": 195,
   "metadata": {
    "tags": []
   },
   "outputs": [
    {
     "name": "stdout",
     "output_type": "stream",
     "text": [
      "0 0.0 gap 245.93032155787887 0.0 0.0001 False False\n",
      "1 0.0 gap 245.93032155787887 0.0 0.00019 False True\n",
      "2 0.22769675455313595 gap 245.77474815371852 0.22769675455313335 0.000361 False True\n",
      "3 0.5381739645331823 gap 245.68596189636415 0.6632821764254848 0.0006858999999999999 False True\n",
      "4 40.3412898818391 gap 28.799737493849662 1.1122867082923429 0.0013032099999999997 False True\n",
      "5 42.40585673296325 gap 15.73621573588862 1.1123105110910667 0.0024760989999999994 False True\n",
      "6 42.98582366505853 gap 8.134669000274894 0.38626172187602087 0.004704588099999999 False True\n",
      "Converged at step 6\n",
      "6 43.09421131078367 gap 1.6853910063652453 0.22618233327199694\n"
     ]
    }
   ],
   "source": [
    "log = []\n",
    "logbeta = []\n",
    "Z, E, L = LADMPSAP(f, D, lam, beta, maxBeta, maxIter, rho0, eps1, eps2, r, log, logbeta)"
   ]
  },
  {
   "cell_type": "code",
   "execution_count": 196,
   "metadata": {},
   "outputs": [
    {
     "data": {
      "image/png": "[encoded data removed]",
      "text/plain": [
       "<Figure size 432x288 with 1 Axes>"
      ]
     },
     "metadata": {
      "needs_background": "light"
     },
     "output_type": "display_data"
    }
   ],
   "source": [
    "plt.plot(log)\n",
    "plt.xlabel('Steps')\n",
    "plt.ylabel('Value')\n",
    "plt.savefig('31.png', dpi=200)"
   ]
  },
  {
   "cell_type": "code",
   "execution_count": 197,
   "metadata": {},
   "outputs": [
    {
     "data": {
      "image/png": "[encoded data removed]",
      "text/plain": [
       "<Figure size 432x288 with 1 Axes>"
      ]
     },
     "metadata": {
      "needs_background": "light"
     },
     "output_type": "display_data"
    }
   ],
   "source": [
    "plt.plot(logbeta)\n",
    "plt.xlabel('Steps')\n",
    "plt.ylabel('beta')\n",
    "plt.savefig('32.png', dpi=200)"
   ]
  },
  {
   "cell_type": "code",
   "execution_count": null,
   "metadata": {},
   "outputs": [],
   "source": []
  }
 ],
 "metadata": {
  "interpreter": {
   "hash": "dc8f3ea9badafe9fc0f1b4faa22fba7f18b6863e43b73e6df2a27536033ffddf"
  },
  "kernelspec": {
   "display_name": "Python 3.7.10 64-bit ('ml': conda)",
   "name": "python3"
  },
  "language_info": {
   "name": "python",
   "version": ""
  },
  "orig_nbformat": 2
 },
 "nbformat": 4,
 "nbformat_minor": 2
}