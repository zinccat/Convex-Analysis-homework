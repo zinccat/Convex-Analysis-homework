{
 "cells": [
  {
   "cell_type": "markdown",
   "metadata": {},
   "source": [
    "By ZincCat"
   ]
  },
  {
   "cell_type": "code",
   "execution_count": null,
   "metadata": {},
   "outputs": [],
   "source": [
    "import numpy as np\n",
    "from matplotlib import pyplot as plt"
   ]
  },
  {
   "cell_type": "code",
   "execution_count": null,
   "metadata": {},
   "outputs": [],
   "source": [
    "p = 20\n",
    "m = 25\n",
    "n = 20\n",
    "# np.random.seed(100)\n",
    "# A = np.random.uniform(0, 1, (n, m, p))\n",
    "A = np.ones((n, m, p))\n",
    "for i in range(n):\n",
    "    A[i] *= i+1\n",
    "b = np.random.normal(0, 1, m)\n",
    "# b = np.ones(m)\n",
    "x0 = np.random.normal(0, 1, (n, p))\n",
    "# x0 = np.ones((n, p))"
   ]
  },
  {
   "cell_type": "code",
   "execution_count": null,
   "metadata": {},
   "outputs": [],
   "source": [
    "def f(x):\n",
    "    return np.sum(np.linalg.norm(x, 1, axis=1))\n",
    "def cons(x, A, b):\n",
    "    return np.einsum('ijk, ik -> j', A, x) - b\n",
    "def shrink(x, eps):\n",
    "    x[abs(x) <= eps] = 0\n",
    "    x[x > eps] -= eps\n",
    "    x[x < -eps] += eps\n",
    "    return x\n",
    "def update_x(x, A, b, beta, eta, lam):\n",
    "    for i in range(n):\n",
    "        x[i] = shrink(x[i] - A[i].T@(lam + beta*cons(x, A, b))/eta[i]/beta, 1/beta/eta[i])\n",
    "    return x"
   ]
  },
  {
   "cell_type": "code",
   "execution_count": null,
   "metadata": {
    "tags": []
   },
   "outputs": [],
   "source": [
    "eps1 = 1e-5\n",
    "eps2 = 1e-6\n",
    "maxBeta = 1000\n",
    "beta = 1\n",
    "eta = [(np.linalg.norm(i, 'fro')**2) for i in A]\n",
    "rho0 = 1.5\n",
    "maxIter = 1000000\n",
    "\n",
    "x = x0.copy()\n",
    "lam = np.zeros(m)\n",
    "\n",
    "l = []\n",
    "v = []\n",
    "value = f(x)\n",
    "for i in range(maxIter):\n",
    "    if i % 1000 == 0:\n",
    "        print(i, \"th iteration, f(x) =\", value)\n",
    "        l.append(beta)\n",
    "        v.append(value)\n",
    "    xold = x.copy()\n",
    "    x = update_x(x, A, b, beta, eta, lam)\n",
    "    lam += beta * cons(x, A, b)\n",
    "    if beta*np.max(np.sqrt(eta)*np.linalg.norm(x-xold, 2, axis=1))/np.linalg.norm(b) < eps2:\n",
    "        rho = rho0\n",
    "    else:\n",
    "        rho = 1\n",
    "    value = f(x)\n",
    "    if abs(value-f(xold)) < eps1:\n",
    "        count += 1\n",
    "        if count == 5:\n",
    "            print(i, \"th iteration, f(x) =\", value)\n",
    "            l.append(beta)\n",
    "            v.append(value)\n",
    "            break\n",
    "    else:\n",
    "        count = 0\n",
    "    beta = min(beta*rho, maxBeta)\n",
    "plt.plot(l)"
   ]
  },
  {
   "cell_type": "code",
   "execution_count": null,
   "metadata": {},
   "outputs": [],
   "source": [
    "plt.plot(v)"
   ]
  },
  {
   "cell_type": "code",
   "execution_count": null,
   "metadata": {},
   "outputs": [],
   "source": [
    "# 调用scipy求值\n",
    "from scipy.optimize import minimize\n",
    "def constraint(A, b, m, n):\n",
    "    def f(x):\n",
    "        ans = np.zeros(m)\n",
    "        for i in range(n):\n",
    "            ans += A[i]@x[i*p:(i+1)*p]\n",
    "        return ans - b\n",
    "    return f\n",
    "con = {'type': 'eq', 'fun': constraint(A, b, m, n)}\n",
    "def f1(x):\n",
    "    return np.linalg.norm(x, 1)\n",
    "res = minimize(f1, x0, constraints=con, tol=1e-10, options={'maxiter': 1e3, 'disp': True})\n",
    "minValue = res.fun\n",
    "print(\"Scipy result:\", res.fun)"
   ]
  },
  {
   "cell_type": "code",
   "execution_count": null,
   "metadata": {},
   "outputs": [],
   "source": [
    "eta"
   ]
  },
  {
   "cell_type": "code",
   "execution_count": null,
   "metadata": {},
   "outputs": [],
   "source": [
    "A[0].shape"
   ]
  },
  {
   "cell_type": "code",
   "execution_count": null,
   "metadata": {},
   "outputs": [],
   "source": []
  }
 ],
 "metadata": {
  "interpreter": {
   "hash": "dc8f3ea9badafe9fc0f1b4faa22fba7f18b6863e43b73e6df2a27536033ffddf"
  },
  "kernelspec": {
   "display_name": "Python 3.7.10 64-bit ('ml': conda)",
   "name": "python3"
  },
  "language_info": {
   "name": "python",
   "version": ""
  },
  "orig_nbformat": 2
 },
 "nbformat": 4,
 "nbformat_minor": 2
}