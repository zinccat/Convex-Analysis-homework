{
 "cells": [
  {
   "cell_type": "markdown",
   "metadata": {},
   "source": [
    "# LADMAP\n",
    "\n",
    "### By ZincCat\n",
    "$$\\min _{\\mathbf{Z}, \\mathbf{E}}\\|\\mathbf{Z}\\|_{*}+\\lambda\\|\\mathbf{E}\\|_{2,1}$$\n",
    "\n",
    "$$\\text{s.t. }\\mathbf{D}=\\mathbf{D Z}+\\mathbf{E}, \\mathbf{Z}^{T} \\mathbf{1}=\\mathbf{1}$$"
   ]
  },
  {
   "cell_type": "code",
   "execution_count": 28,
   "metadata": {},
   "outputs": [],
   "source": [
    "import numpy as np\n",
    "from matplotlib import pyplot as plt\n",
    "from time import time\n",
    "from sklearn.decomposition import TruncatedSVD\n",
    "from sklearn.utils.extmath import randomized_svd\n",
    "%matplotlib inline"
   ]
  },
  {
   "cell_type": "code",
   "execution_count": 29,
   "metadata": {},
   "outputs": [],
   "source": [
    "p = 200\n",
    "n = 300\n",
    "np.random.seed(19890817)\n",
    "D = np.random.normal(0, 1, (p, n))\n",
    "D = np.vstack((D, np.ones(n)))"
   ]
  },
  {
   "cell_type": "code",
   "execution_count": 30,
   "metadata": {},
   "outputs": [],
   "source": [
    "def norm21(X):\n",
    "    return np.linalg.norm(np.linalg.norm(X, 2, axis=0), 1)\n",
    "\n",
    "def f(Z, E, lam):\n",
    "    return np.linalg.norm(Z, 'nuc') + lam * norm21(E)\n",
    "\n",
    "# l2,1-norm shrinkage operator\n",
    "def H(M, eps):\n",
    "    norm = np.linalg.norm(M, 2, axis=0)\n",
    "    M[:, norm>eps] *= (norm[norm>eps] - eps)/norm[norm>eps]\n",
    "    M[:, norm<=eps] = 0\n",
    "    return M\n",
    "\n",
    "\n",
    "# soft shrinkage operator\n",
    "def S(x, eps):\n",
    "    count = np.sum([x >= eps])\n",
    "    x[np.abs(x) < eps] = 0\n",
    "    x[x >= eps] -= eps\n",
    "    x[x <= -eps] += eps\n",
    "    return x, count"
   ]
  },
  {
   "cell_type": "code",
   "execution_count": 36,
   "metadata": {},
   "outputs": [],
   "source": [
    "def update_E(Z, L, lam, beta):\n",
    "    M = D - D@Z + L/beta\n",
    "    Enew = H(M, lam/beta)\n",
    "    Enew[-1] = 0\n",
    "    return Enew\n",
    "\n",
    "def update_Z(Z, E, L, beta, eta, r):\n",
    "    N = D + L/beta - E\n",
    "    W = Z - (D.T@(D@Z-N))/eta\n",
    "    U, sigma, V = np.linalg.svd(W)\n",
    "    # U, sigma, V = randomized_svd(W, n_components=r)\n",
    "    sigma, count = S(sigma, 1/beta/eta)\n",
    "    # if count < r:\n",
    "    #     r = min(n, count+1)\n",
    "    # else:\n",
    "    #     r = min(n, r + int(0.05*n))\n",
    "    Znew = U@np.diag(sigma)@V\n",
    "    return Znew, r\n",
    "\n",
    "def update_L(L, dL, beta):\n",
    "    return L + beta * dL\n",
    "\n",
    "def update_beta(beta, maxBeta, rho0, eta, eps2, dE, dZ, normD):\n",
    "    satisfied = False\n",
    "    if beta*max(np.sqrt(2.1)*dE, np.sqrt(eta)*dZ)/normD < eps2:\n",
    "        rho = rho0\n",
    "        satisfied = True\n",
    "    else:\n",
    "        rho = 1\n",
    "    return min(beta*rho, maxBeta), satisfied"
   ]
  },
  {
   "cell_type": "code",
   "execution_count": 37,
   "metadata": {},
   "outputs": [],
   "source": [
    "beta = 1e-4\n",
    "maxBeta = 1e4\n",
    "maxIter = 100000\n",
    "eps1 = 1e-3\n",
    "eps2 = 1e-3\n",
    "rho0 = 1.9\n",
    "lam = 0.1\n",
    "r = 5"
   ]
  },
  {
   "cell_type": "code",
   "execution_count": 38,
   "metadata": {},
   "outputs": [],
   "source": [
    "def LADMAP(f, Din, lam, beta, maxBeta, maxIter, rho0, eps1, eps2, r, log, logbeta):\n",
    "    step = 0\n",
    "    D = Din.copy()\n",
    "    p, n= D.shape\n",
    "    E = np.zeros((p, n))\n",
    "    Z = np.zeros((n, n))\n",
    "    L = np.zeros((p, n))\n",
    "    dL = D - D@Z - E\n",
    "    dLnorm = np.linalg.norm(dL)\n",
    "    normD = np.linalg.norm(D)\n",
    "    eta = normD**2.1\n",
    "    while step < maxIter:\n",
    "        if step % 100 == 0:\n",
    "            value = f(Z, E, lam)\n",
    "            print(step, value, 'gap', dLnorm)\n",
    "            log.append(value)\n",
    "        logbeta.append(beta)\n",
    "        Enew = update_E(Z, L, lam, beta)\n",
    "        Znew, r = update_Z(Z, Enew, L, beta, eta, r)\n",
    "        dE = np.linalg.norm(Enew-E)\n",
    "        dZ = np.linalg.norm(Znew-Z)\n",
    "        E = Enew\n",
    "        Z = Znew\n",
    "        dl = np.sum(Z, axis=0) - np.ones((1, n))\n",
    "        dL = D - D@Z - E\n",
    "        dLnorm = np.linalg.norm(dL)\n",
    "        L = update_L(L, dL, beta)\n",
    "        crit1 = dLnorm/normD < eps1\n",
    "        beta, crit2 = update_beta(\n",
    "            beta, maxBeta, rho0, eta, eps2, dE, dZ, normD)\n",
    "        if crit1 and crit2:\n",
    "            print(\"Converged at step\", step)\n",
    "            value = f(Z, E, lam)\n",
    "            print(step, value, 'gap', dLnorm)\n",
    "            break\n",
    "        step += 1\n",
    "    return Z, E, L"
   ]
  },
  {
   "cell_type": "code",
   "execution_count": 39,
   "metadata": {
    "tags": [
     "outputPrepend"
    ]
   },
   "outputs": [
    {
     "name": "stdout",
     "output_type": "stream",
     "text": [
      "0 0.0 gap 246.53949594651502\n",
      "100 414.30001794788654 gap 0.8370096818523203\n",
      "200 414.4655383136877 gap 10.328989144803254\n",
      "300 414.093033645796 gap 9.958459548548609\n",
      "400 413.29111424503895 gap 2.321450503206335\n",
      "500 412.7611120409464 gap 5.126823701270025\n",
      "600 412.5715526012972 gap 6.943716677872358\n",
      "700 412.5906754712457 gap 3.185739649193045\n",
      "800 412.8205902517316 gap 1.989145534763514\n",
      "900 412.93757336995037 gap 4.413762129637172\n",
      "1000 412.754224799284 gap 2.9797742446376567\n",
      "1100 412.4614552301714 gap 0.29748367728679415\n",
      "1200 412.2895912066168 gap 2.5397089713616463\n",
      "1300 412.2614607055167 gap 2.356049445405693\n",
      "1400 412.32839232497486 gap 0.4792333192455525\n",
      "1500 412.40374223437533 gap 1.2857905226451145\n",
      "1600 412.40230197178386 gap 1.6646296714050144\n",
      "1700 412.31898280373514 gap 0.7237482801479137\n",
      "1800 412.22157509911125 gap 0.5179269521075035\n",
      "1900 412.16951109286526 gap 1.0694728150149309\n",
      "2000 412.1754881881704 gap 0.696819525297019\n",
      "2100 412.213200194542 gap 0.09718690620299807\n",
      "2200 412.23619577027165 gap 0.6225839111325161\n",
      "2300 412.2215627118176 gap 0.5582428939712575\n",
      "2400 412.18184981139893 gap 0.09788179621297131\n",
      "2500 412.14930252610094 gap 0.3206736967268821\n",
      "2600 412.13908284535364 gap 0.3986587552014835\n",
      "2700 412.1478814609209 gap 0.16310201776910327\n",
      "2800 412.16080684530124 gap 0.1344130775261857\n",
      "2900 412.1647483800312 gap 0.25890154025221135\n",
      "3000 412.15572705413535 gap 0.16173750426874553\n",
      "3100 412.14083216954435 gap 0.030694243660896594\n",
      "3200 412.130411023154 gap 0.15275930617813438\n",
      "Converged at step 3249\n",
      "3249 412.14833022378735 gap 0.15942138826341534\n"
     ]
    }
   ],
   "source": [
    "log = []\n",
    "logbeta = []\n",
    "Z, E, L = LADMAP(f, D, lam, beta, maxBeta, maxIter, rho0, eps1, eps2, r, log, logbeta)"
   ]
  },
  {
   "cell_type": "code",
   "execution_count": 43,
   "metadata": {},
   "outputs": [
    {
     "data": {
      "image/png": "[encoded data removed]",
      "text/plain": [
       "<Figure size 432x288 with 1 Axes>"
      ]
     },
     "metadata": {
      "needs_background": "light"
     },
     "output_type": "display_data"
    }
   ],
   "source": [
    "plt.plot(log)\n",
    "plt.xlabel('Steps')\n",
    "plt.ylabel('Value')\n",
    "plt.savefig('21.png', dpi=200)"
   ]
  },
  {
   "cell_type": "code",
   "execution_count": 44,
   "metadata": {},
   "outputs": [
    {
     "data": {
      "image/png": "[encoded data removed]",
      "text/plain": [
       "<Figure size 432x288 with 1 Axes>"
      ]
     },
     "metadata": {
      "needs_background": "light"
     },
     "output_type": "display_data"
    }
   ],
   "source": [
    "plt.plot(logbeta)\n",
    "plt.xlabel('Steps')\n",
    "plt.ylabel('beta')\n",
    "plt.savefig('22.png', dpi=200)"
   ]
  },
  {
   "cell_type": "code",
   "execution_count": null,
   "metadata": {},
   "outputs": [],
   "source": []
  }
 ],
 "metadata": {
  "interpreter": {
   "hash": "dc8f3ea9badafe9fc0f1b4faa22fba7f18b6863e43b73e6df2a27536033ffddf"
  },
  "kernelspec": {
   "display_name": "Python 3.7.10 64-bit ('ml': conda)",
   "name": "python3"
  },
  "language_info": {
   "name": "python",
   "version": ""
  },
  "orig_nbformat": 2
 },
 "nbformat": 4,
 "nbformat_minor": 2
}