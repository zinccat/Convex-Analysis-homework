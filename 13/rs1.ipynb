{
 "cells": [
  {
   "cell_type": "code",
   "execution_count": 30,
   "metadata": {},
   "outputs": [],
   "source": [
    "import numpy as np\n",
    "from matplotlib import pyplot as plt\n",
    "\n",
    "# 设置随机种子\n",
    "np.random.seed(19890817)"
   ]
  },
  {
   "cell_type": "markdown",
   "metadata": {},
   "source": [
    "R1 update"
   ]
  },
  {
   "cell_type": "code",
   "execution_count": 29,
   "metadata": {
    "tags": []
   },
   "outputs": [
    {
     "name": "stdout",
     "output_type": "stream",
     "text": [
      "H [[1. 0.]\n",
      " [0. 1.]]\n",
      "H [[0.5 0. ]\n",
      " [0.  1. ]]\n",
      "result: [0. 0.]\n"
     ]
    }
   ],
   "source": [
    "# 定义一些辅助函数\n",
    "Q = np.array([[2, 0], [0, 1]])\n",
    "\n",
    "def f(x):\n",
    "    # 计算函数值\n",
    "    return x[0]*x[0] + 1/2*x[1]*x[1] + 3\n",
    "\n",
    "def gradient_f(x):\n",
    "    # 计算函数梯度\n",
    "    return Q@x\n",
    "\n",
    "# 设置变量初值\n",
    "x = np.array([1, 2], dtype=np.float64)\n",
    "H = np.eye(2)\n",
    "g = gradient_f(x)\n",
    "d = -g\n",
    "eta = 1e-5\n",
    "while True:\n",
    "    print(\"H\", H)\n",
    "    if np.linalg.norm(g) < eta:\n",
    "        break\n",
    "    alpha = - np.dot(g, d)/np.dot(d, Q@d)\n",
    "    dx = alpha*d\n",
    "    x += dx\n",
    "    dg = Q@dx\n",
    "    g += dg\n",
    "    t = dx - H@dg\n",
    "    if np.abs(np.dot(dg, t)) < eta:\n",
    "        break\n",
    "    H = H + np.outer(t, t)/np.dot(dg, t)\n",
    "    d = -H@g\n",
    "print(\"result:\", x)"
   ]
  },
  {
   "cell_type": "markdown",
   "metadata": {},
   "source": [
    "DFP"
   ]
  },
  {
   "cell_type": "code",
   "execution_count": 38,
   "metadata": {},
   "outputs": [
    {
     "name": "stdout",
     "output_type": "stream",
     "text": [
      "H [[1. 0.]\n",
      " [0. 1.]]\n",
      "x [0. 0.]\n",
      "[ 1. -1.]\n",
      "H [[ 0.5 -0.5]\n",
      " [-0.5  1.5]]\n",
      "x [ 1. -1.]\n",
      "[ 0.  -0.5]\n",
      "H [[ 0.5 -0.5]\n",
      " [-0.5  1. ]]\n",
      "x [ 1.  -1.5]\n",
      "result: [ 1.  -1.5]\n"
     ]
    }
   ],
   "source": [
    "# 定义一些辅助函数\n",
    "Q = np.array([[4, 2], [2, 2]])\n",
    "b = np.array([-1, 1])\n",
    "\n",
    "def f(x):\n",
    "    # 计算函数值\n",
    "    return np.dot(x, Q@x) + np.dot(x, b)\n",
    "\n",
    "def gradient_f(x):\n",
    "    # 计算函数梯度\n",
    "    return Q@x + b\n",
    "\n",
    "# 设置变量初值\n",
    "x = np.array([0, 0], dtype=np.float64)\n",
    "H = np.eye(2)\n",
    "g = gradient_f(x)\n",
    "d = -g\n",
    "eta = 1e-5\n",
    "while True:\n",
    "    print(\"H\", H)\n",
    "    print(\"x\", x)\n",
    "    if np.linalg.norm(g) < eta:\n",
    "        break\n",
    "    alpha = -np.dot(g, d)/np.dot(d, Q@d)\n",
    "    dx = alpha*d\n",
    "    print(dx)\n",
    "    x += dx\n",
    "    dg = Q@dx\n",
    "    g += dg\n",
    "    t = H@dg\n",
    "    if np.abs(np.dot(dg, t)) < eta:\n",
    "        break\n",
    "    H = H + np.outer(dx, dx)/np.dot(dx, dg) - np.outer(t, t)/np.dot(dg, t)\n",
    "    d = -H@g\n",
    "print(\"result:\", x)"
   ]
  },
  {
   "cell_type": "markdown",
   "metadata": {},
   "source": [
    "BFGS"
   ]
  },
  {
   "cell_type": "code",
   "execution_count": 39,
   "metadata": {},
   "outputs": [
    {
     "name": "stdout",
     "output_type": "stream",
     "text": [
      "H [[1. 0.]\n",
      " [0. 1.]]\n",
      "x [0. 0.]\n",
      "[-0.   0.5]\n",
      "H [[1.   1.5 ]\n",
      " [1.5  2.75]]\n",
      "x [0.  0.5]\n",
      "[3.  4.5]\n",
      "H [[2. 3.]\n",
      " [3. 5.]]\n",
      "x [3. 5.]\n",
      "result: [3. 5.]\n"
     ]
    }
   ],
   "source": [
    "# 定义一些辅助函数\n",
    "Q = np.array([[5, -3], [-3, 2]])\n",
    "b = np.array([0, 1])\n",
    "\n",
    "def f(x):\n",
    "    # 计算函数值\n",
    "    return np.dot(x, Q@x) - np.dot(x, b) + np.log(np.pi)\n",
    "\n",
    "def gradient_f(x):\n",
    "    # 计算函数梯度\n",
    "    return Q@x - b\n",
    "\n",
    "# 设置变量初值\n",
    "x = np.array([0, 0], dtype=np.float64)\n",
    "H = np.eye(2)\n",
    "g = gradient_f(x)\n",
    "d = -g\n",
    "eta = 1e-5\n",
    "while True:\n",
    "    print(\"H\", H)\n",
    "    print(\"x\", x)\n",
    "    if np.linalg.norm(g) < eta:\n",
    "        break\n",
    "    alpha = -np.dot(g, d)/np.dot(d, Q@d)\n",
    "    dx = alpha*d\n",
    "    print(dx)\n",
    "    x += dx\n",
    "    dg = Q@dx\n",
    "    g += dg\n",
    "    t = H@dg\n",
    "    if np.abs(np.dot(dg, t)) < eta:\n",
    "        break\n",
    "    H = H + (1+np.dot(dg, t)/np.dot(dg, dx))*np.outer(dx, dx)/np.dot(dg, dx) - (np.outer(t, dx) + np.outer(dx, t))/np.dot(dg, dx)\n",
    "    d = -H@g\n",
    "print(\"result:\", x)"
   ]
  },
  {
   "cell_type": "code",
   "execution_count": null,
   "metadata": {},
   "outputs": [],
   "source": []
  }
 ],
 "metadata": {
  "interpreter": {
   "hash": "dc8f3ea9badafe9fc0f1b4faa22fba7f18b6863e43b73e6df2a27536033ffddf"
  },
  "kernelspec": {
   "display_name": "Python 3.7.10 64-bit ('ml': conda)",
   "name": "python3"
  },
  "language_info": {
   "name": "python",
   "version": ""
  },
  "orig_nbformat": 2
 },
 "nbformat": 4,
 "nbformat_minor": 2
}