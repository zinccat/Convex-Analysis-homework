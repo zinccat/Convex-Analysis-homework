{
 "cells": [
  {
   "cell_type": "markdown",
   "metadata": {},
   "source": [
    "# HW13.4 L-BFGS\n",
    "By ZincCat\n",
    "\n",
    "$\\displaystyle\\min_{\\mathbf{x}}f(\\mathbf{x})=\\sum_{i=1}^{n/2}\\left[\\alpha\\left(x_{2i}-x_{2i-1}^{2}\\right)^{2}+\\left(1-x_{2 i-1}\\right)^{2}\\right]$\n",
    "\n"
   ]
  },
  {
   "cell_type": "code",
   "execution_count": 1,
   "metadata": {},
   "outputs": [],
   "source": [
    "import numpy as np\n",
    "from matplotlib import pyplot as plt\n",
    "\n",
    "# 设置随机种子\n",
    "np.random.seed(19890817)"
   ]
  },
  {
   "cell_type": "code",
   "execution_count": 2,
   "metadata": {},
   "outputs": [],
   "source": [
    "# 定义一些辅助函数\n",
    "n = 500\n",
    "alpha = 100\n",
    "def f(x):\n",
    "    # 计算函数值\n",
    "    s = 0\n",
    "    for i in range(n//2):\n",
    "        s += alpha*(x[2*i+1] - x[2*i]*x[2*i])**2 + (1-x[2*i])**2\n",
    "    return s\n",
    "\n",
    "def gradient_f(x):\n",
    "    # 计算函数梯度\n",
    "    g = np.zeros(n)\n",
    "    for i in range(n//2):\n",
    "        t = 2*alpha*(x[2*i+1] - x[2*i]*x[2*i])\n",
    "        g[2*i] = -2*t*x[2*i] + 2*x[2*i] - 2\n",
    "        g[2*i+1] = t\n",
    "    return g\n",
    "\n",
    "def linesearch(f, x, g, d, a=0.4, b=0.8):\n",
    "    # backtrack linesearch using Armijo rules\n",
    "    t = 1\n",
    "    value = f(x)\n",
    "    while f(x + t*d) > value + a*t*np.dot(g, d):\n",
    "        t *= b\n",
    "    return t\n",
    "\n",
    "def L_BFGS(grad, m):\n",
    "    # Main algorithm of L-BFGS\n",
    "    q = grad.copy()\n",
    "    alphalist = []\n",
    "    for i, xg in enumerate(m):\n",
    "        alphalist.append(np.dot(xg[0], q)/np.dot(xg[0], xg[1]))\n",
    "        q -= alphalist[i]*xg[1]\n",
    "    l = len(m)\n",
    "    if l > 0: # H_0\n",
    "        q *= np.dot(m[0][0], m[0][1])/np.dot(m[0][1], m[0][1]) # p\n",
    "    for i, xg in enumerate(reversed(m)):\n",
    "        beta = np.dot(xg[1], q)/np.dot(xg[0], xg[1])\n",
    "        q += (alphalist[l-i-1] - beta)*xg[0]\n",
    "    return -q"
   ]
  },
  {
   "cell_type": "code",
   "execution_count": 4,
   "metadata": {
    "tags": []
   },
   "outputs": [
    {
     "name": "stdout",
     "output_type": "stream",
     "text": [
      "0 2000.0\n",
      "1 138.03348376521532\n",
      "2 220.01246235861774\n",
      "3 194.09749416433664\n",
      "4 54.13683781308755\n",
      "5 6.921774448766465\n",
      "6 1.4546908079557794\n",
      "7 0.0979480623982054\n",
      "8 2.755394772906357e-05\n",
      "9 1.8695267089148618e-07\n",
      "10 3.34487447947818e-09\n",
      "11 1.1658855969216335e-16\n",
      "result: x: [1. 1. 1. 1. 1. 1. 1. 1. 1. 1. 1. 1. 1. 1. 1. 1. 1. 1. 1. 1. 1. 1. 1. 1.\n",
      " 1. 1. 1. 1. 1. 1. 1. 1. 1. 1. 1. 1. 1. 1. 1. 1. 1. 1. 1. 1. 1. 1. 1. 1.\n",
      " 1. 1. 1. 1. 1. 1. 1. 1. 1. 1. 1. 1. 1. 1. 1. 1. 1. 1. 1. 1. 1. 1. 1. 1.\n",
      " 1. 1. 1. 1. 1. 1. 1. 1. 1. 1. 1. 1. 1. 1. 1. 1. 1. 1. 1. 1. 1. 1. 1. 1.\n",
      " 1. 1. 1. 1. 1. 1. 1. 1. 1. 1. 1. 1. 1. 1. 1. 1. 1. 1. 1. 1. 1. 1. 1. 1.\n",
      " 1. 1. 1. 1. 1. 1. 1. 1. 1. 1. 1. 1. 1. 1. 1. 1. 1. 1. 1. 1. 1. 1. 1. 1.\n",
      " 1. 1. 1. 1. 1. 1. 1. 1. 1. 1. 1. 1. 1. 1. 1. 1. 1. 1. 1. 1. 1. 1. 1. 1.\n",
      " 1. 1. 1. 1. 1. 1. 1. 1. 1. 1. 1. 1. 1. 1. 1. 1. 1. 1. 1. 1. 1. 1. 1. 1.\n",
      " 1. 1. 1. 1. 1. 1. 1. 1. 1. 1. 1. 1. 1. 1. 1. 1. 1. 1. 1. 1. 1. 1. 1. 1.\n",
      " 1. 1. 1. 1. 1. 1. 1. 1. 1. 1. 1. 1. 1. 1. 1. 1. 1. 1. 1. 1. 1. 1. 1. 1.\n",
      " 1. 1. 1. 1. 1. 1. 1. 1. 1. 1. 1. 1. 1. 1. 1. 1. 1. 1. 1. 1. 1. 1. 1. 1.\n",
      " 1. 1. 1. 1. 1. 1. 1. 1. 1. 1. 1. 1. 1. 1. 1. 1. 1. 1. 1. 1. 1. 1. 1. 1.\n",
      " 1. 1. 1. 1. 1. 1. 1. 1. 1. 1. 1. 1. 1. 1. 1. 1. 1. 1. 1. 1. 1. 1. 1. 1.\n",
      " 1. 1. 1. 1. 1. 1. 1. 1. 1. 1. 1. 1. 1. 1. 1. 1. 1. 1. 1. 1. 1. 1. 1. 1.\n",
      " 1. 1. 1. 1. 1. 1. 1. 1. 1. 1. 1. 1. 1. 1. 1. 1. 1. 1. 1. 1. 1. 1. 1. 1.\n",
      " 1. 1. 1. 1. 1. 1. 1. 1. 1. 1. 1. 1. 1. 1. 1. 1. 1. 1. 1. 1. 1. 1. 1. 1.\n",
      " 1. 1. 1. 1. 1. 1. 1. 1. 1. 1. 1. 1. 1. 1. 1. 1. 1. 1. 1. 1. 1. 1. 1. 1.\n",
      " 1. 1. 1. 1. 1. 1. 1. 1. 1. 1. 1. 1. 1. 1. 1. 1. 1. 1. 1. 1. 1. 1. 1. 1.\n",
      " 1. 1. 1. 1. 1. 1. 1. 1. 1. 1. 1. 1. 1. 1. 1. 1. 1. 1. 1. 1. 1. 1. 1. 1.\n",
      " 1. 1. 1. 1. 1. 1. 1. 1. 1. 1. 1. 1. 1. 1. 1. 1. 1. 1. 1. 1. 1. 1. 1. 1.\n",
      " 1. 1. 1. 1. 1. 1. 1. 1. 1. 1. 1. 1. 1. 1. 1. 1. 1. 1. 1. 1.] \n",
      "f(x): 1.1658855969216335e-16\n"
     ]
    }
   ],
   "source": [
    "a = 0.4\n",
    "b = 0.8\n",
    "maxIter = 200\n",
    "\n",
    "# 设置变量初值\n",
    "x = -np.ones(n)\n",
    "g = gradient_f(x)\n",
    "d = -g\n",
    "eta = 1e-5\n",
    "timestep = 0\n",
    "m = []\n",
    "memlimit = 7\n",
    "\n",
    "while True:\n",
    "    print(timestep, f(x))\n",
    "    # print(timestep, \"th iteration, x=\", x, \", f(x)=\", f(x))\n",
    "    # print(\"g=\", g)\n",
    "    if np.linalg.norm(g) < eta:\n",
    "        break\n",
    "    d = L_BFGS(g, m)\n",
    "    alpha = linesearch(f, x, g, d, a, b)\n",
    "    dx = alpha*d\n",
    "    x += dx\n",
    "    dg = gradient_f(x) - g\n",
    "    g += dg\n",
    "    if len(m) >= memlimit:\n",
    "        m.pop()\n",
    "    m.insert(0, (dx, dg))\n",
    "    timestep += 1\n",
    "    if timestep >= maxIter:\n",
    "        break\n",
    "print(\"result: x:\", x, \"\\nf(x):\",f(x))"
   ]
  },
  {
   "cell_type": "code",
   "execution_count": null,
   "metadata": {},
   "outputs": [],
   "source": []
  }
 ],
 "metadata": {
  "interpreter": {
   "hash": "dc8f3ea9badafe9fc0f1b4faa22fba7f18b6863e43b73e6df2a27536033ffddf"
  },
  "kernelspec": {
   "display_name": "Python 3.7.10 64-bit ('ml': conda)",
   "name": "python3"
  },
  "language_info": {
   "name": "python",
   "version": ""
  },
  "orig_nbformat": 2
 },
 "nbformat": 4,
 "nbformat_minor": 2
}