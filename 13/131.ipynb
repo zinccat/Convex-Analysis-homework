{
 "cells": [
  {
   "cell_type": "markdown",
   "metadata": {},
   "source": [
    "# HW13.1 DFP\n",
    "\n",
    "By ZincCat\n",
    "\n",
    "用DFP优化\n",
    "$f(\\mathbf{x})=\\frac{x_{1}^{4}}{4}+\\frac{x_{2}^{2}}{2}-x_{1} x_{2}+x_{1}-x_{2}$"
   ]
  },
  {
   "cell_type": "code",
   "execution_count": null,
   "metadata": {},
   "outputs": [],
   "source": [
    "%matplotlib inline\n",
    "import numpy as np\n",
    "from matplotlib import pyplot as plt\n",
    "from matplotlib.colors import LogNorm\n",
    "\n",
    "# 设置随机种子\n",
    "np.random.seed(19890817)"
   ]
  },
  {
   "cell_type": "markdown",
   "metadata": {},
   "source": [
    "DFP"
   ]
  },
  {
   "cell_type": "code",
   "execution_count": null,
   "metadata": {
    "tags": []
   },
   "outputs": [],
   "source": [
    "# 定义一些辅助函数\n",
    "def f(x):\n",
    "    # 计算函数值\n",
    "    return x[0]**4/4 + x[1]*x[1]/2 - x[0]*x[1] + x[0] - x[1]\n",
    "\n",
    "def gradient_f(x):\n",
    "    # 计算函数梯度\n",
    "    return np.array([x[0]*x[0]*x[0] - x[1] + 1, x[1] - x[0] - 1])\n",
    "\n",
    "def linesearch(f, x, g, d, alpha=0.4, beta=0.8):\n",
    "    # backtrack linesearch\n",
    "    t = 1.0\n",
    "    value = f(x)\n",
    "    while f(x + t*d) > value + alpha*t*np.dot(g, d):\n",
    "        t *= beta\n",
    "    return t"
   ]
  },
  {
   "cell_type": "code",
   "execution_count": null,
   "metadata": {},
   "outputs": [],
   "source": [
    "alpha = 0.4\n",
    "beta = 0.8\n",
    "maxIter = 100\n",
    "\n",
    "# 设置变量初值\n",
    "# x = np.array([0, 0], dtype=np.float64) #x0\n",
    "x = np.array([1.5, 1], dtype=np.float64) #x0\n",
    "H = np.eye(2) #H_0\n",
    "g = gradient_f(x)\n",
    "d = -g\n",
    "eta = 1e-5\n",
    "eps = 1e-18\n",
    "timestep = 0\n",
    "\n",
    "Plot = True\n",
    "xlog1 = []\n",
    "xlog2 = []\n",
    "\n",
    "while True:\n",
    "    print(timestep, \"th iteration, x=\", x, \", f(x)=\", f(x))\n",
    "    print(\"H=\", H)\n",
    "    print(\"g=\", g)\n",
    "    if Plot:\n",
    "        xlog1.append(x[0])\n",
    "        xlog2.append(x[1])\n",
    "    if np.linalg.norm(g) < eta: # 算法终止条件\n",
    "        break\n",
    "    alpha = linesearch(f, x, g, d, alpha, beta)\n",
    "    dx = alpha*d\n",
    "    x += dx\n",
    "    dg = gradient_f(x) - g\n",
    "    g += dg\n",
    "    t = H@dg\n",
    "    if np.abs(np.dot(dg, t)) < eps: #避免除0\n",
    "        break\n",
    "    H = H + np.outer(dx, dx)/np.dot(dx, dg) - np.outer(t, t)/np.dot(dg, t) # DFP\n",
    "    d = -H@g\n",
    "    timestep += 1\n",
    "    if timestep >= maxIter:\n",
    "        break\n",
    "print(\"result: x:\", x, \"\\nf(x):\",f(x))"
   ]
  },
  {
   "cell_type": "markdown",
   "metadata": {},
   "source": [
    "后面的代码仅用于绘图"
   ]
  },
  {
   "cell_type": "code",
   "execution_count": null,
   "metadata": {},
   "outputs": [],
   "source": [
    "xmin, xmax, xstep = -4.5, 4.5, .2\n",
    "ymin, ymax, ystep = -4.5, 4.5, .2\n",
    "x = np.meshgrid(np.arange(xmin, xmax + xstep, xstep), np.arange(ymin, ymax + ystep, ystep))\n",
    "z = f(x)+1\n",
    "zmin, zmax = np.min(z), np.max(z)\n",
    "minima1 = np.array([1, 2]).reshape(-1, 1)\n",
    "minima2 = np.array([-1, 0]).reshape(-1, 1)"
   ]
  },
  {
   "cell_type": "code",
   "execution_count": null,
   "metadata": {},
   "outputs": [],
   "source": [
    "fig = plt.figure(figsize=(8, 5))\n",
    "ax = plt.axes(projection='3d', elev=50, azim=-50)\n",
    "ax.plot_surface(*x, z, edgecolor='none', norm = LogNorm(), alpha=.8, cmap=plt.get_cmap('rainbow'))\n",
    "ax.plot(*minima1, f(minima1)+1, 'r*', markersize=10)\n",
    "ax.plot(*minima2, f(minima2)+1, 'r*', markersize=10)\n",
    "\n",
    "ax.set_xlabel('$x_1$')\n",
    "ax.set_ylabel('$x_2$')\n",
    "ax.set_zlabel('$f$')\n",
    "\n",
    "ax.set_xlim((xmin, xmax))\n",
    "ax.set_ylim((ymin, ymax))\n",
    "plt.savefig('131func.pdf')\n",
    "plt.show()"
   ]
  },
  {
   "cell_type": "code",
   "execution_count": null,
   "metadata": {},
   "outputs": [],
   "source": [
    "a = plt.contourf(*x, z, 10, cmap=plt.get_cmap('rainbow'))\n",
    "b = plt.contour(*x, z, levels = np.logspace(-2,3,100))\n",
    "plt.xlabel('$x_1$'); plt.ylabel(\"$x_2$\")\n",
    "plt.title(\"Contour plot of loss function for $x_1 = 1.5, x_2=1$\")\n",
    "plt.plot(xlog1, xlog2, 'r--')\n",
    "plt.savefig('131cont1.51.pdf')"
   ]
  }
 ],
 "metadata": {
  "interpreter": {
   "hash": "dc8f3ea9badafe9fc0f1b4faa22fba7f18b6863e43b73e6df2a27536033ffddf"
  },
  "kernelspec": {
   "display_name": "Python 3.7.10 64-bit ('ml': conda)",
   "name": "python3"
  },
  "language_info": {
   "name": "python",
   "version": ""
  },
  "orig_nbformat": 2
 },
 "nbformat": 4,
 "nbformat_minor": 2
}